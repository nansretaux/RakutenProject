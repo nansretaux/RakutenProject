{
 "cells": [
  {
   "cell_type": "code",
   "execution_count": 8,
   "id": "248b7e6a-a9a5-44a0-8c46-19c25d476cde",
   "metadata": {},
   "outputs": [],
   "source": [
    "import numpy as np\n",
    "import pandas as pd\n",
    "\n",
    "from PIL import Image \n",
    "import matplotlib.image as mpimg\n",
    "import matplotlib.pyplot as plt\n",
    "import os\n",
    "import re\n",
    "import cv2\n",
    "\n",
    "import skimage\n",
    "from sklearn.base import BaseEstimator, TransformerMixin\n",
    "from skimage.feature import hog\n",
    "\n",
    "from scipy.sparse import csr_matrix\n",
    "import h5py\n",
    "\n",
    "from sklearn.metrics import accuracy_score, classification_report, confusion_matrix # Pour les performances de classification\n",
    "\n",
    "from sklearn.ensemble import GradientBoostingClassifier\n",
    "from sklearn.svm import LinearSVC\n",
    "\n",
    "from sklearn.pipeline import FeatureUnion, Pipeline\n",
    "from sklearn.feature_extraction.text import TfidfVectorizer\n",
    "from sklearn.base import BaseEstimator, TransformerMixin\n",
    "\n",
    "import warnings\n",
    "warnings.filterwarnings(\"ignore\")\n",
    "\n",
    "from sklearn.decomposition import PCA\n",
    "from sklearn.model_selection import train_test_split\n",
    "\n",
    "from joblib import parallel_backend\n",
    "from joblib import Parallel, delayed\n",
    "#from sklearnex import patch_sklearn \n",
    "#patch_sklearn()\n",
    "\n"
   ]
  },
  {
   "cell_type": "code",
   "execution_count": 2,
   "id": "55b54e6e-10bf-457e-9173-064c46d20f28",
   "metadata": {},
   "outputs": [],
   "source": [
    "# Charger un tableau NumPy à partir du fichier HDF5\n",
    "with h5py.File('data_0_comp_100.h5', 'r') as hf:\n",
    "    X_train_img_id = hf['image_ids'][:]\n",
    "    X_train_product_id = hf['product_ids'][:]\n",
    "    #X_train_gray = hf['X_train_gray'][:]\n",
    "    X_train_hog = hf['X_train_hog'][:]\n",
    "    #X_train_hsv = hf['X_train_hsv'][:]\n",
    "    "
   ]
  },
  {
   "cell_type": "code",
   "execution_count": 3,
   "id": "4b3188c8-df74-43ef-8598-0510be7787ec",
   "metadata": {},
   "outputs": [],
   "source": [
    "\n",
    "# flatten l'image\n",
    "X_train_var = np.array([image.flatten() for image in X_train_hog])\n",
    "\n",
    "# lecture du fichier texte\n",
    "df_X_train_txt = pd.read_csv('text_lemm.csv', delimiter=',')\n",
    "\n",
    "#on filtre sur les images qui ont bien été traitées\n",
    "df_features = df_X_train_txt[df_X_train_txt['imageid'].isin(X_train_img_id)]\n",
    "\n",
    "y = df_features['prdtypecode']\n",
    "\n",
    "# Séparer le jeu de données en données d'entraînement et données test \n",
    "X_train, X_test, X_img_train, X_img_test, y_train, y_test = train_test_split(df_features['Text'], X_train_var, y, test_size=0.2, random_state = 30)\n",
    "\n",
    "# Vecteur TF-IDF\n",
    "vectorizer = TfidfVectorizer()\n",
    "X_train_tfidf = vectorizer.fit_transform(X_train)\n",
    "X_test_tfidf = vectorizer.transform(X_test)\n",
    "\n",
    "# on combine nos deux features\n",
    "X_train_combined = np.concatenate((X_train_tfidf.toarray(), X_img_train), axis=1)\n",
    "X_test_combined = np.concatenate((X_test_tfidf.toarray(), X_img_test), axis=1)\n"
   ]
  },
  {
   "cell_type": "code",
   "execution_count": 4,
   "id": "4220c0ff-cb8d-48b1-a43a-8f12fdc28f0e",
   "metadata": {},
   "outputs": [],
   "source": [
    "# Feature Scaling\n",
    "from sklearn.preprocessing import StandardScaler\n",
    "sc = StandardScaler()\n",
    "X_train_combined = sc.fit_transform(X_train_combined)\n",
    "X_test_combined = sc.transform(X_test_combined)\n"
   ]
  },
  {
   "cell_type": "code",
   "execution_count": null,
   "id": "85f07ba5-1806-4c5d-b354-7813a18e1ca3",
   "metadata": {},
   "outputs": [],
   "source": [
    "%%timeit\n",
    "\n",
    "# Specify the backend as 'multiprocessing' or 'threading'\n",
    "# 'multiprocessing' is recommended for CPU-bound tasks, while 'threading' is more suitable for IO-bound tasks\n",
    "\n",
    "#with parallel_backend('multiprocessing'):\n",
    "\n",
    "model = LinearSVC()\n",
    "\n",
    "# Train the model\n",
    "model.fit(X_train_combined, y_train)\n"
   ]
  },
  {
   "cell_type": "code",
   "execution_count": 6,
   "id": "817d780a-43b4-4d91-b7b0-2ba1a83c7b2d",
   "metadata": {},
   "outputs": [],
   "source": [
    "def train_model(X, y):\n",
    "    model = LinearSVC()\n",
    "    model.fit(X, y)\n",
    "    return model\n",
    "    "
   ]
  },
  {
   "cell_type": "code",
   "execution_count": null,
   "id": "35127ab1-3ec9-43df-9737-130d7c974ede",
   "metadata": {},
   "outputs": [],
   "source": [
    "n_jobs = -1  # Utilise tous les cœurs disponibles\n",
    "models = Parallel(n_jobs=n_jobs)(delayed(train_model)(X_train_combined, y_train) for _ in range(10))\n"
   ]
  },
  {
   "cell_type": "code",
   "execution_count": null,
   "id": "eca88038-76a2-4ccf-bd16-a1c3ffe45f7b",
   "metadata": {},
   "outputs": [],
   "source": [
    "print(model.score(X_test_combined, y_test))\n",
    "\n",
    "# Prédiction sur l'échantillon de test\n",
    "test_pred = model.predict(X_test_combined)\n",
    "\n",
    "print(\"Précision de la prédiction:\", accuracy_score(y_test, test_pred)*100, '%')\n",
    "\n",
    "print(\"Evaluation détaillée de la Classification par RDF :\\n \\n\" ,\n",
    "      (classification_report(y_test, test_pred)))\n"
   ]
  },
  {
   "cell_type": "code",
   "execution_count": null,
   "id": "936f8ff3-1af8-48b1-a4df-10add076e07c",
   "metadata": {},
   "outputs": [],
   "source": []
  },
  {
   "cell_type": "code",
   "execution_count": null,
   "id": "623a31be-6280-4dc8-bbd6-3a7b2cb1f3b9",
   "metadata": {},
   "outputs": [],
   "source": []
  },
  {
   "cell_type": "code",
   "execution_count": null,
   "id": "ddb36ea9-ce4a-4209-b5f4-c832ae1ccdf9",
   "metadata": {},
   "outputs": [],
   "source": []
  },
  {
   "cell_type": "code",
   "execution_count": null,
   "id": "47d7a605-86c1-4bc0-8de8-e29d5718c9fe",
   "metadata": {},
   "outputs": [],
   "source": []
  },
  {
   "cell_type": "code",
   "execution_count": null,
   "id": "5d54fb17-9e1b-47ed-bd35-2f039b735ee8",
   "metadata": {},
   "outputs": [],
   "source": []
  },
  {
   "cell_type": "code",
   "execution_count": null,
   "id": "8fad3e12-1893-4d83-b1b3-7f9a0fa70ff5",
   "metadata": {},
   "outputs": [],
   "source": []
  }
 ],
 "metadata": {
  "kernelspec": {
   "display_name": "rakuten",
   "language": "python",
   "name": "rakuten"
  },
  "language_info": {
   "codemirror_mode": {
    "name": "ipython",
    "version": 3
   },
   "file_extension": ".py",
   "mimetype": "text/x-python",
   "name": "python",
   "nbconvert_exporter": "python",
   "pygments_lexer": "ipython3",
   "version": "3.9.18"
  }
 },
 "nbformat": 4,
 "nbformat_minor": 5
}
